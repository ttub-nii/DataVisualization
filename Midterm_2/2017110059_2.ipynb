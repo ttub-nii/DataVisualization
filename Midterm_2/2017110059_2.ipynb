{
 "cells": [
  {
   "cell_type": "code",
   "execution_count": 8,
   "metadata": {},
   "outputs": [
    {
     "name": "stdout",
     "output_type": "stream",
     "text": [
      "인구 구조가 알고 싶은 지역 이름(동 단위)을 입력해주십시오.  ex.병점2동   병점2동\n"
     ]
    },
    {
     "ename": "ValueError",
     "evalue": "invalid literal for int() with base 10: '2,672'",
     "output_type": "error",
     "traceback": [
      "\u001b[0;31m---------------------------------------------------------------------------\u001b[0m",
      "\u001b[0;31mValueError\u001b[0m                                Traceback (most recent call last)",
      "\u001b[0;32m<ipython-input-8-2231246bf10c>\u001b[0m in \u001b[0;36m<module>\u001b[0;34m\u001b[0m\n\u001b[1;32m     17\u001b[0m     \u001b[0;32mif\u001b[0m \u001b[0mbirth\u001b[0m \u001b[0;32min\u001b[0m \u001b[0mrow\u001b[0m\u001b[0;34m[\u001b[0m\u001b[0;36m0\u001b[0m\u001b[0;34m]\u001b[0m\u001b[0;34m:\u001b[0m\u001b[0;34m\u001b[0m\u001b[0;34m\u001b[0m\u001b[0m\n\u001b[1;32m     18\u001b[0m         \u001b[0;32mfor\u001b[0m \u001b[0mi\u001b[0m \u001b[0;32min\u001b[0m \u001b[0mrow\u001b[0m\u001b[0;34m[\u001b[0m\u001b[0;36m16\u001b[0m\u001b[0;34m:\u001b[0m\u001b[0;36m27\u001b[0m\u001b[0;34m]\u001b[0m\u001b[0;34m:\u001b[0m\u001b[0;34m\u001b[0m\u001b[0;34m\u001b[0m\u001b[0m\n\u001b[0;32m---> 19\u001b[0;31m             \u001b[0mman1\u001b[0m\u001b[0;34m.\u001b[0m\u001b[0mappend\u001b[0m\u001b[0;34m(\u001b[0m\u001b[0mint\u001b[0m\u001b[0;34m(\u001b[0m\u001b[0mi\u001b[0m\u001b[0;34m)\u001b[0m\u001b[0;34m)\u001b[0m       \u001b[0;31m# 2009 남성 데이터 저장하기\u001b[0m\u001b[0;34m\u001b[0m\u001b[0;34m\u001b[0m\u001b[0m\n\u001b[0m\u001b[1;32m     20\u001b[0m             \u001b[0mwoman1\u001b[0m\u001b[0;34m.\u001b[0m\u001b[0mappend\u001b[0m\u001b[0;34m(\u001b[0m\u001b[0mint\u001b[0m\u001b[0;34m(\u001b[0m\u001b[0mi\u001b[0m\u001b[0;34m+\u001b[0m\u001b[0;36m13\u001b[0m\u001b[0;34m)\u001b[0m\u001b[0;34m)\u001b[0m  \u001b[0;31m# 2009 여성 데이터 저장하기\u001b[0m\u001b[0;34m\u001b[0m\u001b[0;34m\u001b[0m\u001b[0m\n\u001b[1;32m     21\u001b[0m             \u001b[0msize1\u001b[0m\u001b[0;34m.\u001b[0m\u001b[0mappend\u001b[0m\u001b[0;34m(\u001b[0m\u001b[0mmath\u001b[0m\u001b[0;34m.\u001b[0m\u001b[0msqrt\u001b[0m\u001b[0;34m(\u001b[0m\u001b[0mrow\u001b[0m\u001b[0;34m[\u001b[0m\u001b[0mi\u001b[0m\u001b[0;34m]\u001b[0m\u001b[0;34m+\u001b[0m\u001b[0mrow\u001b[0m\u001b[0;34m[\u001b[0m\u001b[0mi\u001b[0m\u001b[0;34m+\u001b[0m\u001b[0;36m13\u001b[0m\u001b[0;34m]\u001b[0m\u001b[0;34m)\u001b[0m\u001b[0;34m)\u001b[0m\u001b[0;34m\u001b[0m\u001b[0;34m\u001b[0m\u001b[0m\n",
      "\u001b[0;31mValueError\u001b[0m: invalid literal for int() with base 10: '2,672'"
     ]
    }
   ],
   "source": [
    "import csv\n",
    "import math\n",
    "import matplotlib.pyplot as plt\n",
    "import matplotlib.font_manager as fm\n",
    "\n",
    "# 1. 출생지역의 남여구분하여 다운로드한 데이터를 사용하여,\n",
    "birth = input('인구 구조가 알고 싶은 지역 이름(동 단위)을 입력해주십시오.  ex.병점2동   ')\n",
    "file1 = open('2009MaleFemaleYes.csv', 'r', encoding = 'cp949')   # 2009년 자료\n",
    "file2 = open('2018MaleFemaleYes.csv', 'r', encoding = 'cp949')   # 2018년 자료\n",
    "data1 = csv.reader(file1)\n",
    "data2 = csv.reader(file2)\n",
    "man1, woman1, size1 = [], [], []\n",
    "man2, woman2, size2 = [], [], []\n",
    "\n",
    "# 2. 출생지(동 단위)를 입력받아\n",
    "for row in data1:\n",
    "    if birth in row[0]:\n",
    "        for i in row[16:27]:\n",
    "            man1.append(int(i))       # 2009 남성 데이터 저장하기\n",
    "            woman1.append(int(i+13))  # 2009 여성 데이터 저장하기\n",
    "            size1.append(math.sqrt(row[i]+row[i+13]))\n",
    "        break\n",
    "\n",
    "for row in data2:\n",
    "    if birth in row[0]:\n",
    "        for i in row[16:27]:\n",
    "            man2.append(int(i))       # 2018 남성 데이터 저장하기\n",
    "            woman2.append(int(i+13))  # 2018 여성 데이터 저장하기\n",
    "            size2.append(math.sqrt(row[i]+row[i+13]))\n",
    "        break\n",
    "\n",
    "# matplotlib에서 사용 가능한 한글 지원 ttf 폰트가 없어 직접 지정한다.\n",
    "path = '/Applications/anaconda3/lib/python3.7/site-packages/matplotlib/mpl-data/fonts/ttf/NanumSquareRegular.ttf'\n",
    "fontprop = fm.FontProperties(fname=path, size=13)\n",
    "\n",
    "# 3. 2009년과 2018년에 각각 해당하는 연령대별 성별 비율 산점도를 각각 시각화합니다.\n",
    "# 산점도 표현시 추세선 그래표는 녹색으로 표현하고, \n",
    "# 버블원의 크기는 인구수의 제곱근으로 표현하며, \n",
    "# 컬러바(cmap)는 jet로 표현합니다. \n",
    "\n",
    "plt.title(birth +' 2009년 연령대별 성별 비율 산점도', fontproperties=fontprop)\n",
    "plt.style.use('ggplot')\n",
    "plt.figure(figsize=(10,5), dpi=300)\n",
    "plt.scatter(man1, woman1, s=size1, c=range(101), alpha=0.5, cmap='jet')\n",
    "plt.colorbar()\n",
    "plt.legend() # 범례 표시\n",
    "plt.plot(man1, marker='o', label='2009 male')\n",
    "plt.plot(woman1, marker='o', label='2009 female')\n",
    "plt.savefig('2017110059_2009.png', dpi=300)\n",
    "plt.show()\n",
    "\n",
    "\n",
    "plt.title(birth +' 2019년 연령대별 성별 비율 산점도', fontproperties=fontprop)\n",
    "plt.style.use('ggplot')\n",
    "plt.figure(figsize=(10,5), dpi=300)\n",
    "plt.scatter(man2, woman2, s=size2, c=range(101), alpha=0.5, cmap='jet')\n",
    "plt.colorbar()\n",
    "plt.legend() # 범례 표시\n",
    "plt.plot(man2, marker='o', label='2018 male')\n",
    "plt.plot(woman2, marker='o', label='2018 female')\n",
    "plt.savefig('2017110059_2018.png', dpi=300)\n",
    "plt.legend() # 범례 표시\n",
    "plt.show()"
   ]
  },
  {
   "cell_type": "code",
   "execution_count": null,
   "metadata": {},
   "outputs": [],
   "source": []
  }
 ],
 "metadata": {
  "kernelspec": {
   "display_name": "Python 3",
   "language": "python",
   "name": "python3"
  },
  "language_info": {
   "codemirror_mode": {
    "name": "ipython",
    "version": 3
   },
   "file_extension": ".py",
   "mimetype": "text/x-python",
   "name": "python",
   "nbconvert_exporter": "python",
   "pygments_lexer": "ipython3",
   "version": "3.7.6"
  }
 },
 "nbformat": 4,
 "nbformat_minor": 4
}
